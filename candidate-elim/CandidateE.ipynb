{
  "nbformat": 4,
  "nbformat_minor": 0,
  "metadata": {
    "colab": {
      "name": "CandidateE.ipynb",
      "provenance": []
    },
    "kernelspec": {
      "name": "python3",
      "display_name": "Python 3"
    }
  },
  "cells": [
    {
      "cell_type": "code",
      "metadata": {
        "id": "_3D54y4QuNk0"
      },
      "source": [
        "import numpy as np \r\n",
        "import pandas as pd "
      ],
      "execution_count": 1,
      "outputs": []
    },
    {
      "cell_type": "code",
      "metadata": {
        "colab": {
          "base_uri": "https://localhost:8080/"
        },
        "id": "4l0oqgf0ucoE",
        "outputId": "3c7855e4-78e1-4311-a39f-f37986b82bf4"
      },
      "source": [
        "data = pd.DataFrame(data=pd.read_csv(\"Enjoy-sport.csv\")) \r\n",
        "concepts = np.array(data.iloc[:,0:-1])\r\n",
        "print(concepts) \r\n",
        "target = np.array(data.iloc[:,-1])  \r\n",
        "print(target)"
      ],
      "execution_count": 2,
      "outputs": [
        {
          "output_type": "stream",
          "text": [
            "[['sunny' 'warm' 'normal' 'strong' 'warm' 'same']\n",
            " ['sunny' 'warm' 'high' 'strong' 'warm' 'same']\n",
            " ['rainy' 'cold' 'high' 'strong' 'warm' 'change']\n",
            " ['sunny' 'warm' 'high' 'strong' 'cool' 'change']]\n",
            "['yes' 'yes' 'no' 'yes']\n"
          ],
          "name": "stdout"
        }
      ]
    },
    {
      "cell_type": "code",
      "metadata": {
        "id": "AxzuzMNqulMp"
      },
      "source": [
        "def learn(concepts, target): \r\n",
        "    specific_h = concepts[0].copy()     \r\n",
        "    print(\"initialization of specific_h and general_h\")     \r\n",
        "    print(specific_h)  \r\n",
        "    general_h = [[\"?\" for i in range(len(specific_h))] for i in range(len(specific_h))]     \r\n",
        "    #print(general_h)  \r\n",
        "    for i, h in enumerate(concepts): \r\n",
        "        if target[i] == \"yes\": \r\n",
        "            for x in range(len(specific_h)): \r\n",
        "                if h[x]!= specific_h[x]:                    \r\n",
        "                    specific_h[x] ='?'                     \r\n",
        "                    general_h[x][x] ='?'\r\n",
        "                #print(specific_h)\r\n",
        "        print(specific_h)\r\n",
        "        if target[i] == \"no\":            \r\n",
        "            for x in range(len(specific_h)): \r\n",
        "                if h[x]!= specific_h[x]:                    \r\n",
        "                    general_h[x][x] = specific_h[x]                \r\n",
        "                else:                    \r\n",
        "                    general_h[x][x] = '?'        \r\n",
        "        print(\" steps of Candidate Elimination Algorithm\",i+1)        \r\n",
        "        #print(specific_h)         \r\n",
        "        #print(general_h)  \r\n",
        "    indices = [i for i, val in enumerate(general_h) if val == ['?', '?', '?', '?', '?', '?']]    \r\n",
        "    for i in indices:   \r\n",
        "        general_h.remove(['?', '?', '?', '?', '?', '?']) \r\n",
        "    return specific_h, general_h "
      ],
      "execution_count": 3,
      "outputs": []
    },
    {
      "cell_type": "code",
      "metadata": {
        "colab": {
          "base_uri": "https://localhost:8080/"
        },
        "id": "npmzHcTEuob0",
        "outputId": "d2e3b5e1-2139-4bbd-ba4c-67523decad65"
      },
      "source": [
        "s_final, g_final = learn(concepts, target)\r\n",
        "print(\"Final Specific_h:\", s_final, sep=\"\\n\")\r\n",
        "print(\"Final General_h:\", g_final, sep=\"\\n\") "
      ],
      "execution_count": 4,
      "outputs": [
        {
          "output_type": "stream",
          "text": [
            "initialization of specific_h and general_h\n",
            "['sunny' 'warm' 'normal' 'strong' 'warm' 'same']\n",
            "['sunny' 'warm' 'normal' 'strong' 'warm' 'same']\n",
            " steps of Candidate Elimination Algorithm 1\n",
            "['sunny' 'warm' '?' 'strong' 'warm' 'same']\n",
            " steps of Candidate Elimination Algorithm 2\n",
            "['sunny' 'warm' '?' 'strong' 'warm' 'same']\n",
            " steps of Candidate Elimination Algorithm 3\n",
            "['sunny' 'warm' '?' 'strong' '?' '?']\n",
            " steps of Candidate Elimination Algorithm 4\n",
            "Final Specific_h:\n",
            "['sunny' 'warm' '?' 'strong' '?' '?']\n",
            "Final General_h:\n",
            "[['sunny', '?', '?', '?', '?', '?'], ['?', 'warm', '?', '?', '?', '?']]\n"
          ],
          "name": "stdout"
        }
      ]
    }
  ]
}