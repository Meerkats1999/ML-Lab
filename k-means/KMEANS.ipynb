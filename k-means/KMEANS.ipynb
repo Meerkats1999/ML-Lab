{
  "nbformat": 4,
  "nbformat_minor": 0,
  "metadata": {
    "colab": {
      "name": "KMEANS.ipynb",
      "provenance": []
    },
    "kernelspec": {
      "name": "python3",
      "display_name": "Python 3"
    }
  },
  "cells": [
    {
      "cell_type": "code",
      "metadata": {
        "id": "gae6hQoRu_UA"
      },
      "source": [
        "import numpy as np\r\n",
        "import pandas as pd\r\n",
        "from copy import deepcopy"
      ],
      "execution_count": 1,
      "outputs": []
    },
    {
      "cell_type": "code",
      "metadata": {
        "id": "7rzfP3TJvJzA"
      },
      "source": [
        "def euclidean(a,b, ax=1):\r\n",
        "    return np.linalg.norm(a-b, axis=ax)"
      ],
      "execution_count": 2,
      "outputs": []
    },
    {
      "cell_type": "code",
      "metadata": {
        "id": "pxI5ksT5vMIu"
      },
      "source": [
        "def main():\r\n",
        "    k = 3\r\n",
        "    X = pd.read_csv(\"kmeans.csv\",index_col=False)\r\n",
        "    print(X)\r\n",
        "\r\n",
        "    x1 = X['X1'].values\r\n",
        "    x2 = X['X2'].values\r\n",
        "    X = np.array(list(zip(x1, x2)))\r\n",
        "    print(X)\r\n",
        "    C_x = [6.2, 6.6 ,6.5]\r\n",
        "    C_y = [3.2, 3.7, 3.0]\r\n",
        "    Centroid = np.array(list(zip(C_x, C_y)), dtype=np.float32)\r\n",
        "    print(\"Initial Centroids\")\r\n",
        "    print(Centroid.shape)\r\n",
        "\r\n",
        "    Centroid_old = np.zeros(Centroid.shape)\r\n",
        "    print(Centroid_old)\r\n",
        "    # Cluster Lables(0, 1, 2)\r\n",
        "    clusters = np.zeros(len(X))\r\n",
        "    print(clusters)\r\n",
        "    error = euclidean(Centroid, Centroid_old, None)\r\n",
        "    print(error)\r\n",
        "    iterr = 0\r\n",
        "    # Loop will run till the error becomes zero\r\n",
        "    while error != 0:\r\n",
        "        # Assigning each value to its closest cluster\r\n",
        "        iterr = iterr + 1\r\n",
        "        for i in range(len(X)):\r\n",
        "            #print(X[i])\r\n",
        "            distances = euclidean(X[i], Centroid)\r\n",
        "            #print(distances)\r\n",
        "            cluster = np.argmin(distances)\r\n",
        "            clusters[i] = cluster\r\n",
        "\r\n",
        "        Centroid_old = deepcopy(Centroid)\r\n",
        "        \r\n",
        "        # Finding the new centroids by taking the Mean\r\n",
        "        for p in range(k):\r\n",
        "            points = [X[j] for j in range(len(X)) if clusters[j] == p]\r\n",
        "            Centroid[p] = np.mean(points, axis=0)\r\n",
        "        print(\" Centre of the clusters after \", iterr,\" Iteration \\n\", Centroid)\r\n",
        "        error = euclidean(Centroid, Centroid_old, None)\r\n",
        "        print(\"Error  ... \",error)  "
      ],
      "execution_count": 3,
      "outputs": []
    },
    {
      "cell_type": "code",
      "metadata": {
        "colab": {
          "base_uri": "https://localhost:8080/"
        },
        "id": "bP52_CvjvOZR",
        "outputId": "31820a1f-f214-455a-8797-b2f6de0a9732"
      },
      "source": [
        "main()"
      ],
      "execution_count": 4,
      "outputs": [
        {
          "output_type": "stream",
          "text": [
            "    X1   X2\n",
            "0  5.9  3.2\n",
            "1  4.6  2.9\n",
            "2  6.2  2.8\n",
            "3  4.7  3.2\n",
            "4  5.5  4.2\n",
            "5  5.0  3.0\n",
            "6  4.9  3.1\n",
            "7  6.7  3.1\n",
            "8  5.1  3.8\n",
            "9  6.0  3.0\n",
            "[[5.9 3.2]\n",
            " [4.6 2.9]\n",
            " [6.2 2.8]\n",
            " [4.7 3.2]\n",
            " [5.5 4.2]\n",
            " [5.  3. ]\n",
            " [4.9 3.1]\n",
            " [6.7 3.1]\n",
            " [5.1 3.8]\n",
            " [6.  3. ]]\n",
            "Initial Centroids\n",
            "(3, 2)\n",
            "[[0. 0.]\n",
            " [0. 0.]\n",
            " [0. 0.]]\n",
            "[0. 0. 0. 0. 0. 0. 0. 0. 0. 0.]\n",
            "12.537144692236463\n",
            " Centre of the clusters after  1  Iteration \n",
            " [[5.1714287 3.1714287]\n",
            " [5.5       4.2      ]\n",
            " [6.45      2.95     ]]\n",
            "Error  ...  1.5886391\n",
            " Centre of the clusters after  2  Iteration \n",
            " [[4.8   3.05 ]\n",
            " [5.3   4.   ]\n",
            " [6.2   3.025]]\n",
            "Error  ...  0.5484787\n",
            " Centre of the clusters after  3  Iteration \n",
            " [[4.8   3.05 ]\n",
            " [5.3   4.   ]\n",
            " [6.2   3.025]]\n",
            "Error  ...  0.0\n"
          ],
          "name": "stdout"
        }
      ]
    }
  ]
}